{
 "cells": [
  {
   "cell_type": "code",
   "execution_count": 2,
   "id": "df68138d-2fc4-4fe0-b422-d4749c74fbdd",
   "metadata": {},
   "outputs": [],
   "source": [
    "import cv2\n",
    "import numpy as np\n",
    "import matplotlib.pyplot as plt"
   ]
  },
  {
   "cell_type": "markdown",
   "id": "002eac6d-ee3f-43a6-bb61-a9c941a83616",
   "metadata": {},
   "source": [
    "## <b/> 1. Drawing Rectangle"
   ]
  },
  {
   "cell_type": "code",
   "execution_count": 5,
   "id": "59a6f0d0-9195-4e4d-9d4f-b84d958aaac0",
   "metadata": {},
   "outputs": [
    {
     "name": "stderr",
     "output_type": "stream",
     "text": [
      "[ WARN:0@233.915] global cap_gstreamer.cpp:1173 isPipelinePlaying OpenCV | GStreamer warning: GStreamer: pipeline have not been created\n"
     ]
    }
   ],
   "source": [
    "cam = cv2.VideoCapture(1)\n",
    "\n",
    "while True:\n",
    "    _, img = cam.read()\n",
    "    img = cv2.flip(img, 1)\n",
    "\n",
    "    img = cv2.rectangle(img, (400,100), (800,600), (255,0,0), 3)\n",
    "    img = cv2.rectangle(img, (395,95), (805,605), (0,255,0), 3)\n",
    "    img = cv2.rectangle(img, (390,90), (810,610), (0,0,255), 3)\n",
    "    \n",
    "    cv2.imshow('Frame', img)\n",
    "\n",
    "    key = cv2.waitKey(10)\n",
    "\n",
    "    if (key == 27):\n",
    "        cam.release()\n",
    "        break"
   ]
  },
  {
   "cell_type": "markdown",
   "id": "94816cdd-d599-4967-92de-ae3ea05ab31a",
   "metadata": {},
   "source": [
    "## <b/> 2. Drawing Circles"
   ]
  },
  {
   "cell_type": "code",
   "execution_count": 9,
   "id": "0c84c934-7c9f-43b3-a59f-ac6fca1e61e3",
   "metadata": {},
   "outputs": [
    {
     "name": "stderr",
     "output_type": "stream",
     "text": [
      "[ WARN:0@2392.828] global cap_gstreamer.cpp:1173 isPipelinePlaying OpenCV | GStreamer warning: GStreamer: pipeline have not been created\n"
     ]
    }
   ],
   "source": [
    "cam = cv2.VideoCapture(1)\n",
    "\n",
    "while True:\n",
    "    _, img = cam.read()\n",
    "    img = cv2.flip(img, 1)\n",
    "\n",
    "    img = cv2.circle(img, (640,360), 650, (164,67,95), 200)\n",
    "    \n",
    "    cv2.imshow('Frame', img)\n",
    "\n",
    "    key = cv2.waitKey(10)\n",
    "\n",
    "    if (key == 27):\n",
    "        cam.release()\n",
    "        break"
   ]
  },
  {
   "cell_type": "markdown",
   "id": "f169a074-4532-4847-9027-93b0d51f3ef6",
   "metadata": {},
   "source": [
    "## <b/> 3. Writing Text"
   ]
  },
  {
   "cell_type": "code",
   "execution_count": 11,
   "id": "6c13ff12-4d9e-442e-8e11-03a06f171c78",
   "metadata": {},
   "outputs": [
    {
     "name": "stderr",
     "output_type": "stream",
     "text": [
      "[ WARN:0@2739.445] global cap_gstreamer.cpp:1173 isPipelinePlaying OpenCV | GStreamer warning: GStreamer: pipeline have not been created\n"
     ]
    }
   ],
   "source": [
    "cam = cv2.VideoCapture(1)\n",
    "\n",
    "while True:\n",
    "    _, img = cam.read()\n",
    "    img = cv2.flip(img, 1)\n",
    "\n",
    "    img = cv2.putText(img, 'Ankush Kashyap', (10,50), cv2.FONT_HERSHEY_PLAIN, 2, (160, 67, 90), 2)\n",
    "    \n",
    "    cv2.imshow('Frame', img)\n",
    "\n",
    "    key = cv2.waitKey(10)\n",
    "\n",
    "    if (key == 27):\n",
    "        cam.release()\n",
    "        break"
   ]
  },
  {
   "cell_type": "code",
   "execution_count": null,
   "id": "ba301f32-0824-40be-ac94-7789ebcc8afe",
   "metadata": {},
   "outputs": [],
   "source": []
  }
 ],
 "metadata": {
  "kernelspec": {
   "display_name": "Python 3 (ipykernel)",
   "language": "python",
   "name": "python3"
  },
  "language_info": {
   "codemirror_mode": {
    "name": "ipython",
    "version": 3
   },
   "file_extension": ".py",
   "mimetype": "text/x-python",
   "name": "python",
   "nbconvert_exporter": "python",
   "pygments_lexer": "ipython3",
   "version": "3.11.8"
  }
 },
 "nbformat": 4,
 "nbformat_minor": 5
}
