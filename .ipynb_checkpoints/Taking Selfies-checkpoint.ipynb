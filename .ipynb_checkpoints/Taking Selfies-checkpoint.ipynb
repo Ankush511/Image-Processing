{
 "cells": [
  {
   "cell_type": "code",
   "execution_count": 12,
   "id": "81fa62aa-29f5-4a81-acfa-6c0acab8e375",
   "metadata": {},
   "outputs": [],
   "source": [
    "import cv2 as cv\n",
    "import numpy as np\n",
    "import matplotlib.pyplot as plt"
   ]
  },
  {
   "cell_type": "markdown",
   "id": "6b1e4fc8-6d63-4077-83eb-b58582e5b6e8",
   "metadata": {},
   "source": [
    "## <b/> 1. Taking single selfie"
   ]
  },
  {
   "cell_type": "code",
   "execution_count": 2,
   "id": "dfead32f-a822-4871-ab3c-3bea113a0a0a",
   "metadata": {},
   "outputs": [
    {
     "name": "stderr",
     "output_type": "stream",
     "text": [
      "[ WARN:0@173.603] global cap_gstreamer.cpp:1173 isPipelinePlaying OpenCV | GStreamer warning: GStreamer: pipeline have not been created\n",
      "2024-09-08 18:40:38.310 python[53160:6357562] WARNING: AVCaptureDeviceTypeExternal is deprecated for Continuity Cameras. Please use AVCaptureDeviceTypeContinuityCamera and add NSCameraUseContinuityCameraDeviceType to your Info.plist.\n",
      "2024-09-08 18:40:40.071 python[53160:6357562] +[IMKClient subclass]: chose IMKClient_Modern\n",
      "2024-09-08 18:40:40.071 python[53160:6357562] +[IMKInputSession subclass]: chose IMKInputSession_Modern\n"
     ]
    }
   ],
   "source": [
    "cam = cv.VideoCapture(1)\n",
    "\n",
    "while True:\n",
    "\n",
    "    _, img = cam.read()\n",
    "    \n",
    "    img = cv.flip(img, 1) \n",
    "    \n",
    "    gray = cv.cvtColor(img, cv.COLOR_RGB2GRAY)\n",
    "    hsv  = cv.cvtColor(img, cv.COLOR_RGB2HSV)\n",
    "   \n",
    "    cv.imshow(\"Frame\",img)\n",
    "    \n",
    "    key = cv.waitKey(20)\n",
    "\n",
    "    if (key == 13):\n",
    "        \n",
    "        cv.imwrite('Selfie.png', img)\n",
    "        cv.imwrite('Selfie_Gray.png', gray)\n",
    "        cv.imwrite('Selfie_HSV.png', hsv)\n",
    "        cam.release()\n",
    "        \n",
    "        break"
   ]
  },
  {
   "cell_type": "markdown",
   "id": "e2954f7e-fef3-470c-8bd3-788e7a9a5ea3",
   "metadata": {},
   "source": [
    "## <b/> 2. Taking multiple selfies"
   ]
  },
  {
   "cell_type": "code",
   "execution_count": 13,
   "id": "77a558e1-d44b-43b8-a9d0-e7f53480009a",
   "metadata": {},
   "outputs": [
    {
     "name": "stderr",
     "output_type": "stream",
     "text": [
      "[ WARN:0@9996.743] global cap_gstreamer.cpp:1173 isPipelinePlaying OpenCV | GStreamer warning: GStreamer: pipeline have not been created\n"
     ]
    }
   ],
   "source": [
    "cam = cv.VideoCapture(0)\n",
    "c = 1\n",
    "\n",
    "while True:\n",
    "\n",
    "    _, img = cam.read()\n",
    "    img = cv.flip(img, 1) \n",
    "   \n",
    "    cv.imshow(\"Frame\",img)\n",
    "    \n",
    "    key = cv.waitKey(30)\n",
    "    \n",
    "    if (key == 13):\n",
    "        cv.imwrite('Selfie/Selfie_' + str(c) + '.png', img)\n",
    "        c += 1\n",
    "    \n",
    "    if (key == 27):\n",
    "        cam.release()\n",
    "        break"
   ]
  },
  {
   "cell_type": "code",
   "execution_count": 8,
   "id": "e2ab1953-21f6-41ad-b1ec-fd7b6449969d",
   "metadata": {},
   "outputs": [],
   "source": []
  },
  {
   "cell_type": "code",
   "execution_count": null,
   "id": "2dfc27aa-8764-4c36-8a27-ca552403db7f",
   "metadata": {},
   "outputs": [],
   "source": []
  }
 ],
 "metadata": {
  "kernelspec": {
   "display_name": "Python 3 (ipykernel)",
   "language": "python",
   "name": "python3"
  },
  "language_info": {
   "codemirror_mode": {
    "name": "ipython",
    "version": 3
   },
   "file_extension": ".py",
   "mimetype": "text/x-python",
   "name": "python",
   "nbconvert_exporter": "python",
   "pygments_lexer": "ipython3",
   "version": "3.11.8"
  }
 },
 "nbformat": 4,
 "nbformat_minor": 5
}
