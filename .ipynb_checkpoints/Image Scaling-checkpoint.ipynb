{
 "cells": [
  {
   "cell_type": "code",
   "execution_count": 7,
   "id": "92b91c50-e3d2-4163-a90e-faf601c38edc",
   "metadata": {},
   "outputs": [],
   "source": [
    "import cv2\n",
    "import numpy as np\n",
    "import matplotlib.pyplot as plt"
   ]
  },
  {
   "cell_type": "markdown",
   "id": "9553b4fb-e8a4-45f7-956c-e05baf056906",
   "metadata": {},
   "source": [
    "## <b/> Image Scaling"
   ]
  },
  {
   "cell_type": "code",
   "execution_count": 3,
   "id": "f577ec75-61a3-4f47-a293-36b7905bce46",
   "metadata": {},
   "outputs": [
    {
     "name": "stderr",
     "output_type": "stream",
     "text": [
      "[ WARN:0@189.277] global cap_gstreamer.cpp:1173 isPipelinePlaying OpenCV | GStreamer warning: GStreamer: pipeline have not been created\n"
     ]
    }
   ],
   "source": [
    "cam = cv2.VideoCapture(1)\n",
    "\n",
    "while True:\n",
    "    \n",
    "    _, img = cam.read()\n",
    "    \n",
    "    img = cv2.flip(img,1)\n",
    "\n",
    "    resized_1 = cv2.resize(img, (int(img.shape[1]/2) ,int(img.shape[0]/2)))\n",
    "    resized_2 = cv2.resize(img, (int(img.shape[1]/4) ,int(img.shape[0]/4)))\n",
    "    \n",
    "    cv2.imshow(\"Original\", img)\n",
    "    cv2.imshow(\"Resized-1\", resized_1)\n",
    "    cv2.imshow(\"Resized-2\", resized_2)\n",
    "    \n",
    "    if cv2.waitKey(10) == 27:\n",
    "        cam.release()\n",
    "        break"
   ]
  },
  {
   "cell_type": "markdown",
   "id": "fe77c630-6fdc-4172-ad50-e736b2de3643",
   "metadata": {},
   "source": [
    "## <b/> Downscaling and Upscaling"
   ]
  },
  {
   "cell_type": "code",
   "execution_count": 8,
   "id": "78ee00ca-b061-4e56-b345-3e01b0ae32d6",
   "metadata": {},
   "outputs": [
    {
     "name": "stderr",
     "output_type": "stream",
     "text": [
      "[ WARN:0@779.274] global cap_gstreamer.cpp:1173 isPipelinePlaying OpenCV | GStreamer warning: GStreamer: pipeline have not been created\n"
     ]
    }
   ],
   "source": [
    "cam = cv2.VideoCapture(1)\n",
    "\n",
    "while True:\n",
    "    \n",
    "    _, img = cam.read()\n",
    "    \n",
    "    img = cv2.flip(img,1)                \n",
    "    \n",
    "    resized_1 = cv2.resize(img      , (int(img.shape[1]/4) ,int(img.shape[0]/4)))\n",
    "    resized_2 = cv2.resize(resized_1, (int(resized_1.shape[1]*4) ,int(resized_1.shape[0]*4)))\n",
    "    \n",
    "    \n",
    "    cv2.imshow(\"Original\", img)\n",
    "    cv2.imshow(\"Downscaled\", resized_1)\n",
    "    cv2.imshow(\"Upscaled\", resized_2)\n",
    "    \n",
    "    if cv2.waitKey(10) == 27:\n",
    "        cam.release()\n",
    "        break"
   ]
  },
  {
   "cell_type": "code",
   "execution_count": null,
   "id": "7598af4e-a8af-429a-afc3-c7e86e1c5a3d",
   "metadata": {},
   "outputs": [],
   "source": []
  }
 ],
 "metadata": {
  "kernelspec": {
   "display_name": "Python 3 (ipykernel)",
   "language": "python",
   "name": "python3"
  },
  "language_info": {
   "codemirror_mode": {
    "name": "ipython",
    "version": 3
   },
   "file_extension": ".py",
   "mimetype": "text/x-python",
   "name": "python",
   "nbconvert_exporter": "python",
   "pygments_lexer": "ipython3",
   "version": "3.11.8"
  }
 },
 "nbformat": 4,
 "nbformat_minor": 5
}
