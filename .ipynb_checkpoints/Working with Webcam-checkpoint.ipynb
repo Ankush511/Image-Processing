{
 "cells": [
  {
   "cell_type": "code",
   "execution_count": 2,
   "id": "d371ff19-b2c6-4a4f-82ee-fd593ef43c02",
   "metadata": {},
   "outputs": [],
   "source": [
    "import cv2\n",
    "import numpy as np\n",
    "import matplotlib.pyplot as plt"
   ]
  },
  {
   "cell_type": "markdown",
   "id": "6a32498d-4089-4714-8183-13a5e0b736c2",
   "metadata": {},
   "source": [
    "## <b/> 1. Using Webcam"
   ]
  },
  {
   "cell_type": "code",
   "execution_count": 5,
   "id": "e135faf5-4050-4cbd-83ce-7b898c019eb4",
   "metadata": {},
   "outputs": [
    {
     "name": "stderr",
     "output_type": "stream",
     "text": [
      "[ WARN:0@382.468] global cap_gstreamer.cpp:1173 isPipelinePlaying OpenCV | GStreamer warning: GStreamer: pipeline have not been created\n"
     ]
    }
   ],
   "source": [
    "cam = cv2.VideoCapture(1)\n",
    "\n",
    "while True:\n",
    "    _, img = cam.read()\n",
    "    img = cv2.flip(img,1)\n",
    "    \n",
    "    cv2.imshow(\"Frame\", img)\n",
    "    \n",
    "    key = cv2.waitKey(20)\n",
    "\n",
    "    if (key == 27):\n",
    "        cam.release()\n",
    "        break"
   ]
  },
  {
   "cell_type": "markdown",
   "id": "d86307d2-0fed-4183-85a5-78b578a248db",
   "metadata": {},
   "source": [
    "## <b/> 2. Cropping the image frame"
   ]
  },
  {
   "cell_type": "code",
   "execution_count": 4,
   "id": "5a1c527d-be37-42ed-b3e2-ec0c3b52d9fe",
   "metadata": {},
   "outputs": [
    {
     "name": "stderr",
     "output_type": "stream",
     "text": [
      "[ WARN:0@303.881] global cap_gstreamer.cpp:1173 isPipelinePlaying OpenCV | GStreamer warning: GStreamer: pipeline have not been created\n",
      "2024-09-08 15:35:57.966 python[51113:6335070] WARNING: AVCaptureDeviceTypeExternal is deprecated for Continuity Cameras. Please use AVCaptureDeviceTypeContinuityCamera and add NSCameraUseContinuityCameraDeviceType to your Info.plist.\n",
      "2024-09-08 15:35:59.673 python[51113:6335070] +[IMKClient subclass]: chose IMKClient_Modern\n",
      "2024-09-08 15:35:59.673 python[51113:6335070] +[IMKInputSession subclass]: chose IMKInputSession_Modern\n"
     ]
    }
   ],
   "source": [
    "cam = cv2.VideoCapture(1)\n",
    "\n",
    "while True:\n",
    "\n",
    "    _, img = cam.read()\n",
    "    img = cv2.flip(img, 1) \n",
    "\n",
    "    frame = img[ 100:500 , 400:800 , : ]\n",
    "    \n",
    "    cv2.imshow(\"Frame\",img)\n",
    "    cv2.imshow(\"Cropped\",frame)\n",
    "    \n",
    "    key = cv2.waitKey(20)\n",
    "    \n",
    "    \n",
    "    if (key == 27):\n",
    "        cam.release()\n",
    "        break"
   ]
  },
  {
   "cell_type": "markdown",
   "id": "ae395ec2-bf7e-45f3-bb87-2c36545af656",
   "metadata": {},
   "source": [
    "## <b/> 3. Frame Extraction"
   ]
  },
  {
   "cell_type": "code",
   "execution_count": 10,
   "id": "e92b7901-0574-4217-8e13-c66e660a1c45",
   "metadata": {},
   "outputs": [
    {
     "name": "stderr",
     "output_type": "stream",
     "text": [
      "[ WARN:0@1181.637] global cap_gstreamer.cpp:1173 isPipelinePlaying OpenCV | GStreamer warning: GStreamer: pipeline have not been created\n"
     ]
    }
   ],
   "source": [
    "cam = cv2.VideoCapture(1)\n",
    "\n",
    "while True:\n",
    "    _, img = cam.read()\n",
    "    \n",
    "    img = cv2.flip(img,1)\n",
    "    hsv = cv2.cvtColor(img, cv2.COLOR_RGB2HSV)\n",
    "\n",
    "    r = img[:,:,0]\n",
    "    g = img[:,:,1]\n",
    "    b = img[:,:,2]\n",
    "\n",
    "    h = hsv[:,:,0]\n",
    "    s = hsv[:,:,1]\n",
    "    v = hsv[:,:,2]\n",
    "    \n",
    "    \n",
    "    cv2.imshow(\"Frame\", img)\n",
    "    cv2.imshow(\"Red\", r)\n",
    "    cv2.imshow(\"Green\", g)\n",
    "    cv2.imshow(\"Blue\", b)\n",
    "    \n",
    "    cv2.imshow(\"HSV\", hsv)\n",
    "    cv2.imshow(\"Hue\", h)\n",
    "    cv2.imshow(\"Saturation\", s)\n",
    "    cv2.imshow(\"Value\", v)\n",
    "    \n",
    "    key = cv2.waitKey(20)\n",
    "\n",
    "    if (key == 27):\n",
    "        cam.release()\n",
    "        break"
   ]
  },
  {
   "cell_type": "code",
   "execution_count": null,
   "id": "b9afa23b-38ea-4e77-8337-7ed12bb66f1d",
   "metadata": {},
   "outputs": [],
   "source": []
  }
 ],
 "metadata": {
  "kernelspec": {
   "display_name": "Python 3 (ipykernel)",
   "language": "python",
   "name": "python3"
  },
  "language_info": {
   "codemirror_mode": {
    "name": "ipython",
    "version": 3
   },
   "file_extension": ".py",
   "mimetype": "text/x-python",
   "name": "python",
   "nbconvert_exporter": "python",
   "pygments_lexer": "ipython3",
   "version": "3.11.8"
  }
 },
 "nbformat": 4,
 "nbformat_minor": 5
}
