{
 "cells": [
  {
   "cell_type": "code",
   "execution_count": 1,
   "id": "bf422829-7cef-4619-abd1-cd8562c49fbf",
   "metadata": {},
   "outputs": [],
   "source": [
    "import cv2\n",
    "import numpy as np\n",
    "import matplotlib.pyplot as plt"
   ]
  },
  {
   "cell_type": "markdown",
   "id": "4ff37c6a-47e6-42cc-b114-b4a68bd9aae1",
   "metadata": {},
   "source": [
    "## <b/> Edge Detection"
   ]
  },
  {
   "cell_type": "code",
   "execution_count": 4,
   "id": "62706418-248e-45f8-b2e8-aac53496dca2",
   "metadata": {},
   "outputs": [
    {
     "name": "stderr",
     "output_type": "stream",
     "text": [
      "[ WARN:0@459.239] global cap_gstreamer.cpp:1173 isPipelinePlaying OpenCV | GStreamer warning: GStreamer: pipeline have not been created\n"
     ]
    }
   ],
   "source": [
    "cam = cv2.VideoCapture(1)\n",
    "\n",
    "while True:\n",
    "    _, img = cam.read()\n",
    "    img = cv2.flip(img, 1)\n",
    "\n",
    "    edge_1 = cv2.Canny(img, 0, 50)\n",
    "    edge_2 = cv2.Canny(img, 50, 100)\n",
    "    edge_3 = cv2.Canny(img, 100, 150)\n",
    "    edge_4 = cv2.Canny(img, 150, 200)\n",
    "    edge_5 = cv2.Canny(img, 200, 250)\n",
    "\n",
    "    cv2.imshow('Frame', img)\n",
    "    cv2.imshow('Edges1', edge_1)\n",
    "    cv2.imshow('Edges2', edge_2)\n",
    "    cv2.imshow('Edges3', edge_3)\n",
    "    cv2.imshow('Edges4', edge_4)\n",
    "    cv2.imshow('Edges5', edge_5)\n",
    "\n",
    "    if cv2.waitKey(10) == 27:\n",
    "        cam.release()\n",
    "        break"
   ]
  },
  {
   "cell_type": "code",
   "execution_count": null,
   "id": "7b051c24-d070-4805-8093-e64421e04844",
   "metadata": {},
   "outputs": [],
   "source": []
  }
 ],
 "metadata": {
  "kernelspec": {
   "display_name": "Python 3 (ipykernel)",
   "language": "python",
   "name": "python3"
  },
  "language_info": {
   "codemirror_mode": {
    "name": "ipython",
    "version": 3
   },
   "file_extension": ".py",
   "mimetype": "text/x-python",
   "name": "python",
   "nbconvert_exporter": "python",
   "pygments_lexer": "ipython3",
   "version": "3.11.8"
  }
 },
 "nbformat": 4,
 "nbformat_minor": 5
}
