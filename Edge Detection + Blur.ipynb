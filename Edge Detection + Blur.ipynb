{
 "cells": [
  {
   "cell_type": "code",
   "execution_count": 1,
   "id": "d567e355-fa3e-4d0d-9548-b7e7768adbf7",
   "metadata": {},
   "outputs": [],
   "source": [
    "import cv2\n",
    "import numpy as np\n",
    "import pandas as pd"
   ]
  },
  {
   "cell_type": "code",
   "execution_count": 4,
   "id": "61ca559f-9359-4fea-ae2c-a21186bf5ee3",
   "metadata": {},
   "outputs": [
    {
     "name": "stderr",
     "output_type": "stream",
     "text": [
      "[ WARN:0@5586.149] global cap_gstreamer.cpp:1173 isPipelinePlaying OpenCV | GStreamer warning: GStreamer: pipeline have not been created\n",
      "2024-09-11 23:48:13.467 python[15108:7301010] +[IMKClient subclass]: chose IMKClient_Modern\n",
      "2024-09-11 23:48:13.467 python[15108:7301010] +[IMKInputSession subclass]: chose IMKInputSession_Modern\n"
     ]
    }
   ],
   "source": [
    "cam = cv2.VideoCapture(1)\n",
    "\n",
    "while True:\n",
    "    \n",
    "    _, img = cam.read()\n",
    "    \n",
    "    img = cv2.flip(img,1)                # Original Frame\n",
    "    \n",
    "    blr = cv2.blur(img,(5,5))            # Blur on Original Frame\n",
    "    edg = cv2.Canny(img, 0,50)           # Edge Detection on Original Frame\n",
    "    fin = cv2.Canny(blr, 0,50)           # Edge Detection on Blur Frame\n",
    "    \n",
    "    \n",
    "    cv2.imshow(\"Original\", img)\n",
    "    cv2.imshow(\"Blur\"    , blr)\n",
    "    cv2.imshow(\"Edges\"   , edg)\n",
    "    cv2.imshow(\"Final\"   , fin)\n",
    "    \n",
    "    if cv2.waitKey(10) == 27:\n",
    "        cam.release()\n",
    "        break"
   ]
  },
  {
   "cell_type": "code",
   "execution_count": null,
   "id": "e00aae36-4e4f-47e1-a90b-dad309cf4fd8",
   "metadata": {},
   "outputs": [],
   "source": []
  }
 ],
 "metadata": {
  "kernelspec": {
   "display_name": "Python 3 (ipykernel)",
   "language": "python",
   "name": "python3"
  },
  "language_info": {
   "codemirror_mode": {
    "name": "ipython",
    "version": 3
   },
   "file_extension": ".py",
   "mimetype": "text/x-python",
   "name": "python",
   "nbconvert_exporter": "python",
   "pygments_lexer": "ipython3",
   "version": "3.11.8"
  }
 },
 "nbformat": 4,
 "nbformat_minor": 5
}
