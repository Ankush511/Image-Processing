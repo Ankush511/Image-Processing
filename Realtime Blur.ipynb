{
 "cells": [
  {
   "cell_type": "code",
   "execution_count": 1,
   "id": "37a276d2-b04a-41d0-8058-df6463f8bedd",
   "metadata": {},
   "outputs": [],
   "source": [
    "import cv2\n",
    "import numpy as np\n",
    "import matplotlib.pyplot as plt"
   ]
  },
  {
   "cell_type": "markdown",
   "id": "6d7c3bee-3356-4dd5-b928-39a4951b0f98",
   "metadata": {},
   "source": [
    "## <b/> Realtime Blur in Live Video"
   ]
  },
  {
   "cell_type": "code",
   "execution_count": null,
   "id": "aff66168-9170-4dbc-b8d9-d8f4c2088293",
   "metadata": {},
   "outputs": [],
   "source": [
    "cam = cv.VideoCapture(0)\n",
    "\n",
    "while True:\n",
    "    \n",
    "    _, img = cam.read()\n",
    "    \n",
    "    img = cv.flip(img,1)\n",
    "    \n",
    "    blr_1 = cv.blur(img,(2,2)) \n",
    "    blr_2 = cv.blur(img,(4,4)) \n",
    "    blr_3 = cv.blur(img,(8,8)) \n",
    "    blr_4 = cv.blur(img,(16,16)) \n",
    "    blr_5 = cv.blur(img,(32,32)) \n",
    "    \n",
    "    \n",
    "    cv.imshow(\"Frame\", img)\n",
    "    cv.imshow(\"Blur-1\" , blr_1)\n",
    "    cv.imshow(\"Blur-2\" , blr_2)\n",
    "    cv.imshow(\"Blur-3\" , blr_3)\n",
    "    cv.imshow(\"Blur-4\" , blr_4)\n",
    "    cv.imshow(\"Blur-5\" , blr_5)\n",
    "    \n",
    "    if cv.waitKey(10) == 27:\n",
    "        cam.release()\n",
    "        break"
   ]
  }
 ],
 "metadata": {
  "kernelspec": {
   "display_name": "Python 3 (ipykernel)",
   "language": "python",
   "name": "python3"
  },
  "language_info": {
   "codemirror_mode": {
    "name": "ipython",
    "version": 3
   },
   "file_extension": ".py",
   "mimetype": "text/x-python",
   "name": "python",
   "nbconvert_exporter": "python",
   "pygments_lexer": "ipython3",
   "version": "3.11.8"
  }
 },
 "nbformat": 4,
 "nbformat_minor": 5
}
